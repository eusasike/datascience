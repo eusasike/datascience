{
  "nbformat": 4,
  "nbformat_minor": 0,
  "metadata": {
    "colab": {
      "name": "SARIMA-PRESENTATION.ipynb",
      "provenance": [],
      "collapsed_sections": []
    },
    "kernelspec": {
      "display_name": "Python 3",
      "name": "python3"
    },
    "language_info": {
      "name": "python"
    }
  },
  "cells": [
    {
      "cell_type": "markdown",
      "metadata": {
        "id": "9QGzHuWjjbav"
      },
      "source": [
        "STEP 1: UPLOAD DATASET TO COLAB"
      ]
    },
    {
      "cell_type": "code",
      "metadata": {
        "colab": {
          "resources": {
            "http://localhost:8080/nbextensions/google.colab/files.js": {
              "data": "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",
              "ok": true,
              "headers": [
                [
                  "content-type",
                  "application/javascript"
                ]
              ],
              "status": 200,
              "status_text": ""
            }
          },
          "base_uri": "https://localhost:8080/",
          "height": 72
        },
        "id": "5pOQoOz7jaVD",
        "outputId": "0a9d6cdf-f212-4ba7-8302-5a8eb5ba3843"
      },
      "source": [
        "#upload the dataset into google colab\n",
        "from google.colab import files\n",
        "uploaded = files.upload()"
      ],
      "execution_count": 1,
      "outputs": [
        {
          "output_type": "display_data",
          "data": {
            "text/html": [
              "\n",
              "     <input type=\"file\" id=\"files-4a0defb3-f74e-49a4-9539-d102382b0a7a\" name=\"files[]\" multiple disabled\n",
              "        style=\"border:none\" />\n",
              "     <output id=\"result-4a0defb3-f74e-49a4-9539-d102382b0a7a\">\n",
              "      Upload widget is only available when the cell has been executed in the\n",
              "      current browser session. Please rerun this cell to enable.\n",
              "      </output>\n",
              "      <script src=\"/nbextensions/google.colab/files.js\"></script> "
            ],
            "text/plain": [
              "<IPython.core.display.HTML object>"
            ]
          },
          "metadata": {
            "tags": []
          }
        },
        {
          "output_type": "stream",
          "text": [
            "Saving tbcaseskibongoto.csv to tbcaseskibongoto.csv\n"
          ],
          "name": "stdout"
        }
      ]
    },
    {
      "cell_type": "markdown",
      "metadata": {
        "id": "3vPHVyISjgBT"
      },
      "source": [
        "IMPORT NECESSARY LIBRARY"
      ]
    },
    {
      "cell_type": "code",
      "metadata": {
        "id": "m8D6oUm7jmb-"
      },
      "source": [
        "import pandas as pd\n",
        "import statsmodels.api as sm\n",
        "import matplotlib.pyplot as plt\n",
        "plt.rcParams.update({'figure.figsize':(10,5), 'figure.dpi':100})\n",
        "import datetime\n",
        "\n"
      ],
      "execution_count": null,
      "outputs": []
    },
    {
      "cell_type": "markdown",
      "metadata": {
        "id": "_z6ofRY4jrZe"
      },
      "source": [
        "LOADING THE DATASET"
      ]
    },
    {
      "cell_type": "code",
      "metadata": {
        "id": "Cr1kfwW-jqwK"
      },
      "source": [
        "pf = pd.read_csv('tbcaseskibongoto.csv')"
      ],
      "execution_count": null,
      "outputs": []
    },
    {
      "cell_type": "code",
      "metadata": {
        "id": "xEGfRd6MWB6g"
      },
      "source": [
        "pf=pd.DataFrame(pf)"
      ],
      "execution_count": null,
      "outputs": []
    },
    {
      "cell_type": "code",
      "metadata": {
        "id": "1fQekkS5dlAb"
      },
      "source": [
        "pf"
      ],
      "execution_count": null,
      "outputs": []
    },
    {
      "cell_type": "code",
      "metadata": {
        "id": "3FGQsM3StXi_"
      },
      "source": [
        "pf.dropna()"
      ],
      "execution_count": null,
      "outputs": []
    },
    {
      "cell_type": "code",
      "metadata": {
        "id": "hGXs4uLhk3_d"
      },
      "source": [
        "pf.info()"
      ],
      "execution_count": null,
      "outputs": []
    },
    {
      "cell_type": "code",
      "metadata": {
        "id": "28PVSiGPg-7H"
      },
      "source": [
        "pf['date']=pd.to_datetime(pf['date'])"
      ],
      "execution_count": null,
      "outputs": []
    },
    {
      "cell_type": "code",
      "metadata": {
        "id": "beGPeOlDhHZx"
      },
      "source": [
        "pf.info()"
      ],
      "execution_count": null,
      "outputs": []
    },
    {
      "cell_type": "code",
      "metadata": {
        "id": "hLlxfRmelsOu"
      },
      "source": [
        "pf=pf[['date','tbcases']]"
      ],
      "execution_count": null,
      "outputs": []
    },
    {
      "cell_type": "code",
      "metadata": {
        "id": "8c3E5Uq_hLUL"
      },
      "source": [
        "pf"
      ],
      "execution_count": null,
      "outputs": []
    },
    {
      "cell_type": "code",
      "metadata": {
        "id": "z49myUIdjpzc"
      },
      "source": [
        "pf=pf.set_index('date')"
      ],
      "execution_count": null,
      "outputs": []
    },
    {
      "cell_type": "markdown",
      "metadata": {
        "id": "tammIOsmj6jA"
      },
      "source": [
        "VISUALIZING THE DATASET"
      ]
    },
    {
      "cell_type": "code",
      "metadata": {
        "id": "KIDfBirlj6Af"
      },
      "source": [
        "#pf.plot(x='Month',title=\"Kibongoto National TB Hospital TB cases since January 2015- December s2020\",ylabel=\"TB cases\")\n",
        "#plt.show()\n",
        "pf.plot(figsize = (15, 6),title=\"Monthly New and Relapse (bacteriologically or clinical diagnosis) TB incidence at Kibongoto Infectious Disease Hospital  from 2015 to 2020.\",ylabel=\"New and Relapse TB cases\",xlabel=\"Year\")\n",
        "plt.show()"
      ],
      "execution_count": null,
      "outputs": []
    },
    {
      "cell_type": "markdown",
      "metadata": {
        "id": "r95F6kbkkMoF"
      },
      "source": [
        "DECOMPOSE TIME SERIES DATA"
      ]
    },
    {
      "cell_type": "code",
      "metadata": {
        "id": "7EC-QbJ-kcoj"
      },
      "source": [
        "decomposition = sm.tsa.seasonal_decompose(pf, model='additive',freq=12,extrapolate_trend='freq')\n",
        "plt.rcParams[\"figure.figsize\"] = [16,9]\n",
        "fig = decomposition.plot()"
      ],
      "execution_count": null,
      "outputs": []
    },
    {
      "cell_type": "markdown",
      "metadata": {
        "id": "HhFuGbzMLr9z"
      },
      "source": [
        "PlOT ACF AND PACF"
      ]
    },
    {
      "cell_type": "code",
      "metadata": {
        "id": "eBI2EbjrL-Fl"
      },
      "source": [
        "import statsmodels.graphics.tsaplots as sgt\n",
        "sgt.plot_acf(pf)\n",
        "plt.show()"
      ],
      "execution_count": null,
      "outputs": []
    },
    {
      "cell_type": "code",
      "metadata": {
        "id": "fKEFNnr_MCPv"
      },
      "source": [
        "sgt.plot_pacf(pf)\n",
        "plt.show()"
      ],
      "execution_count": null,
      "outputs": []
    },
    {
      "cell_type": "markdown",
      "metadata": {
        "id": "1vto3M73ydCm"
      },
      "source": [
        "CHECK FOR THE STATIONARY"
      ]
    },
    {
      "cell_type": "code",
      "metadata": {
        "id": "lT_qQ7G3-k_8"
      },
      "source": [
        "pf=pf.squeeze()"
      ],
      "execution_count": null,
      "outputs": []
    },
    {
      "cell_type": "code",
      "metadata": {
        "id": "jKTm7PfgyD80"
      },
      "source": [
        "from statsmodels.tsa.stattools import adfuller\n",
        "adfuller_results=adfuller(pf,autolag='AIC')\n",
        "print(f'adfuller statistics:{adfuller_results[0]}')\n",
        "print(f'p-value: {adfuller_results[1]}')\n",
        "for key,value in adfuller_results[4].items():\n",
        "  print(\"Critical value: \")\n",
        "  print(f'{key},{value}')"
      ],
      "execution_count": null,
      "outputs": []
    },
    {
      "cell_type": "markdown",
      "metadata": {
        "id": "H0za3QapysuV"
      },
      "source": [
        "SPLITTING INTO TRAINING AND TESTING SET"
      ]
    },
    {
      "cell_type": "code",
      "metadata": {
        "id": "hNDLudiyI93u"
      },
      "source": [
        "# split into train and test sets\n",
        "X = pf.values\n",
        "size = int(len(X) * 0.7)\n",
        "train, test = X[0:size], X[size:len(X)]\n",
        "history = [x for x in train]\n",
        "predictions = list()"
      ],
      "execution_count": null,
      "outputs": []
    },
    {
      "cell_type": "code",
      "metadata": {
        "id": "fa4CXlUPdbIA"
      },
      "source": [
        "type(pf)"
      ],
      "execution_count": null,
      "outputs": []
    },
    {
      "cell_type": "code",
      "metadata": {
        "id": "4jvbZddxU1H4"
      },
      "source": [
        "import itertools "
      ],
      "execution_count": null,
      "outputs": []
    },
    {
      "cell_type": "code",
      "metadata": {
        "id": "3uUEEQ2_buL8"
      },
      "source": [
        "p = range(0, 3)\n",
        "d = range(0,1)\n",
        "q = range(0, 3)\n",
        "pdq = list(itertools.product(p, d, q))\n",
        "seasonal_pdq = [(x[0], x[1], x[2], 12) for x in list(itertools.product(p, d, q))]\n",
        "print('Examples of parameter combinations for Seasonal ARIMA...')\n",
        "print('SARIMAX: {} x {}'.format(pdq[1], seasonal_pdq[1]))\n",
        "print('SARIMAX: {} x {}'.format(pdq[1], seasonal_pdq[2]))\n",
        "print('SARIMAX: {} x {}'.format(pdq[2], seasonal_pdq[3]))\n",
        "print('SARIMAX: {} x {}'.format(pdq[2], seasonal_pdq[4]))\n",
        "\n"
      ],
      "execution_count": null,
      "outputs": []
    },
    {
      "cell_type": "code",
      "metadata": {
        "colab": {
          "background_save": true
        },
        "id": "A3iIjeM_b0v4"
      },
      "source": [
        "metric_aic_dict=dict()\n",
        "for param in pdq:\n",
        "    for param_seasonal in seasonal_pdq:\n",
        "        try:\n",
        "            mod = sm.tsa.statespace.SARIMAX(history,\n",
        "                                            order=param,\n",
        "                                            seasonal_order=param_seasonal,\n",
        "                                            enforce_stationarity=False,\n",
        "                                            enforce_invertibility=False)\n",
        "            results = mod.fit()\n",
        "            print('ARIMA{}x{}12 - AIC:{}'.format(param, param_seasonal, results.aic))\n",
        "            metric_aic_dict.update({(param,param_seasonal).results.aic})\n",
        "        except:\n",
        "            continue"
      ],
      "execution_count": null,
      "outputs": []
    },
    {
      "cell_type": "code",
      "metadata": {
        "id": "IkS2OowG-ord"
      },
      "source": [
        "#ARIMA(1, 0, 2)x(0, 0, 2, 12)12 - AIC:181.7547617641269\n",
        "#ARIMA(0, 1, 0)x(2, 2, 0, 12)12 - AIC:198.82449368899\n",
        "#ARIMA(0, 1, 1)x(2, 2, 0, 12)12 - AIC:195.2215235269675\n",
        "#ARIMA(0, 2, 2)x(2, 2, 0, 12)12 - AIC:186.52096621003744\n",
        "#ARIMA(1, 1, 0)x(2, 2, 1, 12)12 - AIC:187.1520618303596\n",
        "#ARIMA(1, 1, 1)x(2, 2, 0, 12)12 - AIC:186.77546901132936\n",
        "#ARIMA(1, 1, 1)x(2, 2, 1, 12)12 - AIC:188.7005403352341\n",
        "#ARIMA(1, 2, 1)x(2, 2, 0, 12)12 - AIC:183.0945070804955\n",
        "#ARIMA(1, 2, 2)x(2, 2, 0, 12)12 - AIC:177.92491460305126\n",
        "#ARIMA(2, 0, 0)x(2, 2, 0, 12)12 - AIC:186.1857038455962\n",
        "#ARIMA(2, 0, 2)x(2, 2, 0, 12)12 - AIC:182.78979559835588\n",
        "#ARIMA(2, 1, 0)x(2, 2, 0, 12)12 - AIC:179.79328912737333\n",
        "#ARIMA(2, 1, 0)x(2, 2, 1, 12)12 - AIC:181.14363816582275\n",
        "#ARIMA(2, 1, 2)x(2, 2, 1, 12)12 - AIC:178.13615684891985\n",
        "#ARIMA(2, 2, 1)x(2, 2, 0, 12)12 - AIC:172.58196558190537#\n",
        "#ARIMA(2, 2, 2)x(2, 2, 0, 12)12 - AIC:172.60657003313923\n"
      ],
      "execution_count": null,
      "outputs": []
    },
    {
      "cell_type": "code",
      "metadata": {
        "id": "m8UdDDn9AjW5"
      },
      "source": [
        "mod=sm.tsa.statespace.SARIMAX(history, order=(2,0,0), seasonal_order=(2,0,0,12),enforce_stationarity=False,\n",
        "                                            enforce_invertibility=False)\n",
        "results = mod.fit()\n",
        "results.summary()"
      ],
      "execution_count": null,
      "outputs": []
    },
    {
      "cell_type": "markdown",
      "metadata": {
        "id": "Ls0m8r1aiKpf"
      },
      "source": [
        "MODEL DIAGNOSIS PLOT TO CHECK RESIDUAL"
      ]
    },
    {
      "cell_type": "code",
      "metadata": {
        "id": "nVStyE_FiN-3"
      },
      "source": [
        "results.plot_diagnostics(figsize=(16,8))\n",
        "plt.show()"
      ],
      "execution_count": null,
      "outputs": []
    },
    {
      "cell_type": "code",
      "metadata": {
        "id": "A4UoKBsGJYFf"
      },
      "source": [
        "# plot forecasts against actual outcomes\n",
        "plt.plot(test)\n",
        "plt.plot(predictions, color='red')\n",
        "plt.plot(test,label=\"Original test TB incidence\")\n",
        "plt.plot(predictions,label=\"Predicted TB incidence\")\n",
        "plt.legend( loc='upper left')\n",
        "plt.show()"
      ],
      "execution_count": null,
      "outputs": []
    },
    {
      "cell_type": "code",
      "metadata": {
        "id": "c2fU5aGwJi28"
      },
      "source": [
        "from math import sqrt\n",
        "from sklearn.metrics import mean_squared_error"
      ],
      "execution_count": null,
      "outputs": []
    },
    {
      "cell_type": "code",
      "metadata": {
        "id": "ndca32P1Jmgw"
      },
      "source": [
        "rmse =sqrt(mean_squared_error(test, predictions))\n",
        "print(rmse)"
      ],
      "execution_count": null,
      "outputs": []
    },
    {
      "cell_type": "code",
      "metadata": {
        "id": "gfQ-EfRPItF_"
      },
      "source": [
        "# walk-forward validation\n",
        "for t in range(len(test)):\n",
        "\tmodel = sm.tsa.statespace.SARIMAX(history, order=(1,0,2), seasonal_order=(2,0,2,12),enforce_stationarity=False,\n",
        "                                            enforce_invertibility=False)\n",
        "\tmodel_fit = model.fit() \n",
        "  \n",
        "\toutput = model_fit.forecast()\n",
        "\tyhat = output[0]\n",
        "\tpredictions.append(yhat)\n",
        "\tobs = test[t]\n",
        "\thistory.append(obs)\n",
        "\tprint('predicted=%f, expected=%f' % (yhat, obs))\n",
        "\n",
        "model_fit.summary()"
      ],
      "execution_count": null,
      "outputs": []
    },
    {
      "cell_type": "code",
      "metadata": {
        "id": "o3WAm_ZFEMkt"
      },
      "source": [
        "#pf['forecast'] = results.predict(start = 102, end= 114, dynamic= True)  \n",
        "#pf[['tbcases', 'forecast']].plot(figsize=(12, 8))"
      ],
      "execution_count": null,
      "outputs": []
    },
    {
      "cell_type": "code",
      "metadata": {
        "id": "Pae5T4qecNCV"
      },
      "source": [
        "#ARIMA(0, 1, 0)x(2, 2, 0, 12)12 - AIC:198.82449368899\n",
        "#ARIMA(0, 1, 1)x(2, 2, 0, 12)12 - AIC:195.2215235269675\n",
        "#ARIMA(0, 1, 1)x(2, 2, 1, 12)12 - AIC:197.21601675994546\n",
        "#ARIMA(0, 1, 2)x(2, 2, 0, 12)12 - AIC:196.10610698970928\n",
        "#ARIMA(0, 1, 2)x(2, 2, 1, 12)12 - AIC:198.07856722512545\n",
        "#ARIMA(0, 2, 1)x(2, 2, 0, 12)12 - AIC:192.73520175511138\n",
        "#ARIMA(0, 2, 2)x(2, 2, 0, 12)12 - AIC:186.52096621003744\n",
        "#ARIMA(1, 0, 0)x(2, 2, 0, 12)12 - AIC:196.9384420489906\n",
        "#ARIMA(1, 0, 0)x(2, 2, 1, 12)12 - AIC:198.90447550441286\n",
        "#ARIMA(1, 0, 1)x(2, 2, 0, 12)12 - AIC:196.9216669407432\n",
        "#ARIMA(1, 0, 1)x(2, 2, 1, 12)12 - AIC:198.92166397562914\n",
        "#ARIMA(1, 0, 2)x(2, 2, 0, 12)12 - AIC:196.42104366328348\n",
        "#ARIMA(1, 0, 2)x(2, 2, 1, 12)12 - AIC:189.37155654191872\n",
        "#ARIMA(1, 1, 0)x(2, 2, 0, 12)12 - AIC:186.05293168247476\n",
        "#ARIMA(1, 1, 0)x(2, 2, 1, 12)12 - AIC:187.1520618303596\n",
        "#ARIMA(1, 1, 1)x(2, 2, 0, 12)12 - AIC:186.77546901132936\n",
        "#ARIMA(1, 1, 1)x(2, 2, 1, 12)12 - AIC:188.7005403352341\n",
        "#ARIMA(1, 1, 2)x(2, 2, 1, 12)12 - AIC:188.9934080871116\n",
        "#ARIMA(1, 2, 0)x(2, 2, 0, 12)12 - AIC:192.14247217010475\n",
        "#ARIMA(1, 2, 2)x(2, 2, 0, 12)12 - AIC:177.92491460305126\n",
        "#ARIMA(2, 0, 0)x(2, 2, 0, 12)12 - AIC:186.1857038455962\n",
        "#ARIMA(2, 0, 0)x(2, 2, 1, 12)12 - AIC:187.23555192402318\n",
        "#ARIMA(2, 0, 1)x(2, 2, 0, 12)12 - AIC:187.3567221543439\n",
        "#ARIMA(2, 1, 0)x(2, 2, 0, 12)12 - AIC:179.79328912737333\n",
        "#ARIMA(2, 1, 0)x(2, 2, 1, 12)12 - AIC:181.14363816582275\n",
        "#ARIMA(2, 1, 1)x(2, 2, 1, 12)12 - AIC:183.12865722937335\n",
        "#ARIMA(2, 1, 2)x(2, 2, 0, 12)12 - AIC:176.3816755432984\n",
        "#ARIMA(2, 1, 2)x(2, 2, 1, 12)12 - AIC:178.13615684891985\n",
        "#ARIMA(2, 2, 0)x(2, 2, 0, 12)12 - AIC:177.35891104434828\n",
        "#ARIMA(2, 2, 1)x(2, 2, 0, 12)12 - AIC:172.58196558190537\n",
        "#ARIMA(2, 2, 2)x(2, 2, 0, 12)12 - AIC:172.60657003313923"
      ],
      "execution_count": null,
      "outputs": []
    }
  ]
}