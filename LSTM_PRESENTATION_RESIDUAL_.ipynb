{
  "nbformat": 4,
  "nbformat_minor": 0,
  "metadata": {
    "colab": {
      "name": "LSTM_PRESENTATION-RESIDUAL .ipynb",
      "provenance": [],
      "collapsed_sections": []
    },
    "kernelspec": {
      "display_name": "Python 3",
      "name": "python3"
    },
    "language_info": {
      "name": "python"
    }
  },
  "cells": [
    {
      "cell_type": "markdown",
      "metadata": {
        "id": "J94SUgR-4iaY"
      },
      "source": [
        "LSTM FOR FORECASTING TB CASES AT KIDH"
      ]
    },
    {
      "cell_type": "markdown",
      "metadata": {
        "id": "jgGUTO5jstlA"
      },
      "source": [
        "INSTALL NECESSARY LIBRARY"
      ]
    },
    {
      "cell_type": "code",
      "metadata": {
        "id": "PnfF2Z-8kvJJ"
      },
      "source": [
        "#pip install --ignore-installed qiskit-terra qiskit-aer"
      ],
      "execution_count": 1959,
      "outputs": []
    },
    {
      "cell_type": "code",
      "metadata": {
        "id": "EfzBpkBqgtpA"
      },
      "source": [
        "#pip install numpy==1.19.5"
      ],
      "execution_count": 1960,
      "outputs": []
    },
    {
      "cell_type": "code",
      "metadata": {
        "id": "350wnaAbdkQR"
      },
      "source": [
        "#pip install -U scikit-learn"
      ],
      "execution_count": 1961,
      "outputs": []
    },
    {
      "cell_type": "markdown",
      "metadata": {
        "id": "4dUJu5VYsbqL"
      },
      "source": [
        "DATASET UPLOAD TO COLAB"
      ]
    },
    {
      "cell_type": "markdown",
      "metadata": {
        "id": "WHj9xzb6C0_F"
      },
      "source": [
        "IMPORT NECCESSARY LIBRARY"
      ]
    },
    {
      "cell_type": "code",
      "metadata": {
        "id": "hcTHaKmQvWPX"
      },
      "source": [
        "#upload the dataset into google colab\n",
        "#from google.colab import files\n",
        "#uploaded = files.upload()"
      ],
      "execution_count": 1962,
      "outputs": []
    },
    {
      "cell_type": "code",
      "metadata": {
        "id": "sQ_a39ql4j9p"
      },
      "source": [
        "from keras.models import Sequential\n",
        "from keras.layers import Dense\n",
        "from keras.layers import LSTM\n",
        "from keras.layers import Bidirectional\n",
        "from sklearn.preprocessing import MinMaxScaler\n",
        "from keras.layers.core import Dense, Activation, Dropout\n",
        "import time #helper libraries\n",
        "import numpy as np\n",
        "import pandas as pd\n",
        "from sklearn.metrics import mean_absolute_percentage_error\n",
        "from sklearn.metrics import mean_absolute_error\n",
        "from sklearn.metrics import mean_squared_error\n",
        "from sklearn.metrics import r2_score\n",
        "import math\n",
        "import matplotlib.pyplot as plt\n",
        "plt.rcParams.update({'figure.figsize':(9,6), 'figure.dpi':100})\n",
        "plt.style.use('fivethirtyeight')\n",
        "plt.rcParams['axes.labelsize'] = 12\n",
        "plt.rcParams['xtick.labelsize'] = 10\n",
        "plt.rcParams['ytick.labelsize'] = 10\n",
        "plt.rcParams['text.color'] = 'G'"
      ],
      "execution_count": 1963,
      "outputs": []
    },
    {
      "cell_type": "markdown",
      "metadata": {
        "id": "ctzhwI5n-a0c"
      },
      "source": [
        "READ THE DATASET"
      ]
    },
    {
      "cell_type": "code",
      "metadata": {
        "id": "AdhxupzoDBHv"
      },
      "source": [
        "df = pd.read_csv('trend.csv')"
      ],
      "execution_count": 1964,
      "outputs": []
    },
    {
      "cell_type": "code",
      "metadata": {
        "colab": {
          "base_uri": "https://localhost:8080/",
          "height": 419
        },
        "id": "H5B665Sfw7Uk",
        "outputId": "bf8f1d4f-e254-42c4-d150-bba8a4f94751"
      },
      "source": [
        "df"
      ],
      "execution_count": 1965,
      "outputs": [
        {
          "output_type": "execute_result",
          "data": {
            "text/html": [
              "<div>\n",
              "<style scoped>\n",
              "    .dataframe tbody tr th:only-of-type {\n",
              "        vertical-align: middle;\n",
              "    }\n",
              "\n",
              "    .dataframe tbody tr th {\n",
              "        vertical-align: top;\n",
              "    }\n",
              "\n",
              "    .dataframe thead th {\n",
              "        text-align: right;\n",
              "    }\n",
              "</style>\n",
              "<table border=\"1\" class=\"dataframe\">\n",
              "  <thead>\n",
              "    <tr style=\"text-align: right;\">\n",
              "      <th></th>\n",
              "      <th>date</th>\n",
              "      <th>tbcases</th>\n",
              "    </tr>\n",
              "  </thead>\n",
              "  <tbody>\n",
              "    <tr>\n",
              "      <th>0</th>\n",
              "      <td>01/01/15</td>\n",
              "      <td>55.441667</td>\n",
              "    </tr>\n",
              "    <tr>\n",
              "      <th>1</th>\n",
              "      <td>01/02/15</td>\n",
              "      <td>55.441667</td>\n",
              "    </tr>\n",
              "    <tr>\n",
              "      <th>2</th>\n",
              "      <td>01/03/15</td>\n",
              "      <td>55.441667</td>\n",
              "    </tr>\n",
              "    <tr>\n",
              "      <th>3</th>\n",
              "      <td>01/04/15</td>\n",
              "      <td>55.441667</td>\n",
              "    </tr>\n",
              "    <tr>\n",
              "      <th>4</th>\n",
              "      <td>01/05/15</td>\n",
              "      <td>55.441667</td>\n",
              "    </tr>\n",
              "    <tr>\n",
              "      <th>...</th>\n",
              "      <td>...</td>\n",
              "      <td>...</td>\n",
              "    </tr>\n",
              "    <tr>\n",
              "      <th>67</th>\n",
              "      <td>01/08/20</td>\n",
              "      <td>55.441667</td>\n",
              "    </tr>\n",
              "    <tr>\n",
              "      <th>68</th>\n",
              "      <td>01/09/20</td>\n",
              "      <td>55.441667</td>\n",
              "    </tr>\n",
              "    <tr>\n",
              "      <th>69</th>\n",
              "      <td>01/10/20</td>\n",
              "      <td>55.441667</td>\n",
              "    </tr>\n",
              "    <tr>\n",
              "      <th>70</th>\n",
              "      <td>01/11/20</td>\n",
              "      <td>55.441667</td>\n",
              "    </tr>\n",
              "    <tr>\n",
              "      <th>71</th>\n",
              "      <td>01/12/20</td>\n",
              "      <td>55.441667</td>\n",
              "    </tr>\n",
              "  </tbody>\n",
              "</table>\n",
              "<p>72 rows × 2 columns</p>\n",
              "</div>"
            ],
            "text/plain": [
              "        date    tbcases\n",
              "0   01/01/15  55.441667\n",
              "1   01/02/15  55.441667\n",
              "2   01/03/15  55.441667\n",
              "3   01/04/15  55.441667\n",
              "4   01/05/15  55.441667\n",
              "..       ...        ...\n",
              "67  01/08/20  55.441667\n",
              "68  01/09/20  55.441667\n",
              "69  01/10/20  55.441667\n",
              "70  01/11/20  55.441667\n",
              "71  01/12/20  55.441667\n",
              "\n",
              "[72 rows x 2 columns]"
            ]
          },
          "metadata": {
            "tags": []
          },
          "execution_count": 1965
        }
      ]
    },
    {
      "cell_type": "markdown",
      "metadata": {
        "id": "QWglhRDlFsZM"
      },
      "source": [
        "DATA PREPROSSING"
      ]
    },
    {
      "cell_type": "code",
      "metadata": {
        "id": "e9qsnziBAqXD"
      },
      "source": [
        "df['Date']= pd.to_datetime(df['date'],format=\"%d/%m/%y\")\n",
        "df.drop(columns=['date'], inplace=True)"
      ],
      "execution_count": 1966,
      "outputs": []
    },
    {
      "cell_type": "code",
      "metadata": {
        "id": "uDypseHv-Wcr"
      },
      "source": [
        "series=df.set_index('Date')"
      ],
      "execution_count": 1967,
      "outputs": []
    },
    {
      "cell_type": "code",
      "metadata": {
        "colab": {
          "base_uri": "https://localhost:8080/",
          "height": 421
        },
        "id": "bgNqs9su0h7Y",
        "outputId": "3c520232-ffe7-4131-aafb-9ac73f8ac450"
      },
      "source": [
        "series.plot(figsize = (19, 8),title=\"Monthly New and Relapse (bacteriologically confirmed or clinical diagnosis) TB incidence at Kibongoto Infectious Disease Hospital  from 2015 to 2020.\",ylabel=\"New and Relapse TB cases\",xlabel=\"Year\")\n",
        "plt.show()"
      ],
      "execution_count": 1968,
      "outputs": [
        {
          "output_type": "display_data",
          "data": {
            "image/png": "[encoded data removed]",
            "text/plain": [
              "<Figure size 1900x800 with 1 Axes>"
            ]
          },
          "metadata": {
            "tags": []
          }
        }
      ]
    },
    {
      "cell_type": "code",
      "metadata": {
        "id": "VFjUG9ZL-qGH"
      },
      "source": [
        "# fix random seed for reproducibility\n",
        "np.random.seed(7)\n",
        "# load the dataset\n",
        "dataset = series.values\n",
        "dataset = dataset.astype('float32')"
      ],
      "execution_count": 1969,
      "outputs": []
    },
    {
      "cell_type": "code",
      "metadata": {
        "id": "LC5fYfAV1Zax"
      },
      "source": [
        "# convert an array of values into a dataset matrix\n",
        "def create_dataset(dataset, look_back=1):\n",
        "\tdataX, dataY = [], []\n",
        "\tfor i in range(len(dataset)-look_back-1):\n",
        "\t\ta = dataset[i:(i+look_back), 0]\n",
        "\t\tdataX.append(a)\n",
        "\t\tdataY.append(dataset[i + look_back, 0])\n",
        "\treturn np.array(dataX), np.array(dataY)\n",
        "\n",
        "\n"
      ],
      "execution_count": 1970,
      "outputs": []
    },
    {
      "cell_type": "code",
      "metadata": {
        "id": "nfSkXkia1iPg"
      },
      "source": [
        "# normalize the dataset\n",
        "scaler = MinMaxScaler(feature_range=(0, 1))\n",
        "dataset = scaler.fit_transform(dataset)\n",
        "# split into train and test sets\n",
        "train_size = int(len(dataset) * 0.7)\n",
        "test_size = len(dataset) - train_size\n",
        "train, test = dataset[0:train_size,:], dataset[train_size:len(dataset),:]\n",
        "# reshape into X=t and Y=t+1\n",
        "look_back = 2\n",
        "trainX, trainY = create_dataset(train, look_back)\n",
        "testX, testY = create_dataset(test, look_back)\n",
        "# reshape input to be [samples, time steps, features]\n",
        "trainX = np.reshape(trainX, (trainX.shape[0], trainX.shape[1], 1))\n",
        "testX = np.reshape(testX, (testX.shape[0], testX.shape[1], 1))"
      ],
      "execution_count": 1971,
      "outputs": []
    },
    {
      "cell_type": "code",
      "metadata": {
        "id": "loF9itQBGTKL",
        "colab": {
          "base_uri": "https://localhost:8080/"
        },
        "outputId": "5c31c2b4-0744-4b2c-8cda-cfc84e4fd266"
      },
      "source": [
        "testX.shape"
      ],
      "execution_count": 1972,
      "outputs": [
        {
          "output_type": "execute_result",
          "data": {
            "text/plain": [
              "(19, 2, 1)"
            ]
          },
          "metadata": {
            "tags": []
          },
          "execution_count": 1972
        }
      ]
    },
    {
      "cell_type": "markdown",
      "metadata": {
        "id": "crKMqE1dODvY"
      },
      "source": [
        "CREATE MODEL AND FITS"
      ]
    },
    {
      "cell_type": "code",
      "metadata": {
        "colab": {
          "base_uri": "https://localhost:8080/"
        },
        "id": "dU7IevCZOA0p",
        "outputId": "a7854ebf-47f7-4211-f660-7e34268cd9b6"
      },
      "source": [
        "batch_size = 1\n",
        "model = Sequential()\n",
        "model.add(LSTM(50, batch_input_shape=(batch_size, look_back, 1), stateful=True,return_sequences=True))\n",
        "model.add(Dropout(0.2))\n",
        "model.add(LSTM(50, batch_input_shape=(batch_size, look_back, 1), stateful=True))\n",
        "model.add(Dropout(0.2))\n",
        "model.add(Dense(1))\n",
        "model.compile(loss='mean_squared_error', optimizer='adam')\n",
        "for i in range(100):\n",
        "\tmodel.fit(trainX, trainY, epochs=1, batch_size=batch_size, verbose=2, shuffle=False)\n",
        "\tmodel.reset_states()"
      ],
      "execution_count": 1973,
      "outputs": [
        {
          "output_type": "stream",
          "text": [
            "47/47 - 3s - loss: 0.2731\n",
            "47/47 - 0s - loss: 0.1032\n",
            "47/47 - 0s - loss: 0.0910\n",
            "47/47 - 0s - loss: 0.0764\n",
            "47/47 - 0s - loss: 0.0746\n",
            "47/47 - 0s - loss: 0.0582\n",
            "47/47 - 0s - loss: 0.0516\n",
            "47/47 - 0s - loss: 0.0577\n",
            "47/47 - 0s - loss: 0.0507\n",
            "47/47 - 0s - loss: 0.0477\n",
            "47/47 - 0s - loss: 0.0359\n",
            "47/47 - 0s - loss: 0.0305\n",
            "47/47 - 0s - loss: 0.0337\n",
            "47/47 - 0s - loss: 0.0348\n",
            "47/47 - 0s - loss: 0.0344\n",
            "47/47 - 0s - loss: 0.0280\n",
            "47/47 - 0s - loss: 0.0325\n",
            "47/47 - 0s - loss: 0.0314\n",
            "47/47 - 0s - loss: 0.0269\n",
            "47/47 - 0s - loss: 0.0229\n",
            "47/47 - 0s - loss: 0.0182\n",
            "47/47 - 0s - loss: 0.0262\n",
            "47/47 - 0s - loss: 0.0165\n",
            "47/47 - 0s - loss: 0.0191\n",
            "47/47 - 0s - loss: 0.0207\n",
            "47/47 - 0s - loss: 0.0243\n",
            "47/47 - 0s - loss: 0.0177\n",
            "47/47 - 0s - loss: 0.0161\n",
            "47/47 - 0s - loss: 0.0191\n",
            "47/47 - 0s - loss: 0.0237\n",
            "47/47 - 0s - loss: 0.0143\n",
            "47/47 - 0s - loss: 0.0097\n",
            "47/47 - 0s - loss: 0.0116\n",
            "47/47 - 0s - loss: 0.0121\n",
            "47/47 - 0s - loss: 0.0131\n",
            "47/47 - 0s - loss: 0.0149\n",
            "47/47 - 0s - loss: 0.0115\n",
            "47/47 - 0s - loss: 0.0099\n",
            "47/47 - 0s - loss: 0.0092\n",
            "47/47 - 0s - loss: 0.0105\n",
            "47/47 - 0s - loss: 0.0114\n",
            "47/47 - 0s - loss: 0.0128\n",
            "47/47 - 0s - loss: 0.0101\n",
            "47/47 - 0s - loss: 0.0069\n",
            "47/47 - 0s - loss: 0.0127\n",
            "47/47 - 0s - loss: 0.0072\n",
            "47/47 - 0s - loss: 0.0052\n",
            "47/47 - 0s - loss: 0.0120\n",
            "47/47 - 0s - loss: 0.0126\n",
            "47/47 - 0s - loss: 0.0121\n",
            "47/47 - 0s - loss: 0.0087\n",
            "47/47 - 0s - loss: 0.0069\n",
            "47/47 - 0s - loss: 0.0116\n",
            "47/47 - 0s - loss: 0.0154\n",
            "47/47 - 0s - loss: 0.0107\n",
            "47/47 - 0s - loss: 0.0077\n",
            "47/47 - 0s - loss: 0.0110\n",
            "47/47 - 0s - loss: 0.0104\n",
            "47/47 - 0s - loss: 0.0069\n",
            "47/47 - 0s - loss: 0.0058\n",
            "47/47 - 0s - loss: 0.0130\n",
            "47/47 - 0s - loss: 0.0093\n",
            "47/47 - 0s - loss: 0.0075\n",
            "47/47 - 0s - loss: 0.0093\n",
            "47/47 - 0s - loss: 0.0106\n",
            "47/47 - 0s - loss: 0.0104\n",
            "47/47 - 0s - loss: 0.0107\n",
            "47/47 - 0s - loss: 0.0105\n",
            "47/47 - 0s - loss: 0.0106\n",
            "47/47 - 0s - loss: 0.0086\n",
            "47/47 - 0s - loss: 0.0112\n",
            "47/47 - 0s - loss: 0.0099\n",
            "47/47 - 0s - loss: 0.0071\n",
            "47/47 - 0s - loss: 0.0071\n",
            "47/47 - 0s - loss: 0.0104\n",
            "47/47 - 0s - loss: 0.0086\n",
            "47/47 - 0s - loss: 0.0096\n",
            "47/47 - 0s - loss: 0.0085\n",
            "47/47 - 0s - loss: 0.0095\n",
            "47/47 - 0s - loss: 0.0109\n",
            "47/47 - 0s - loss: 0.0058\n",
            "47/47 - 0s - loss: 0.0114\n",
            "47/47 - 0s - loss: 0.0079\n",
            "47/47 - 0s - loss: 0.0050\n",
            "47/47 - 0s - loss: 0.0077\n",
            "47/47 - 0s - loss: 0.0062\n",
            "47/47 - 0s - loss: 0.0088\n",
            "47/47 - 0s - loss: 0.0093\n",
            "47/47 - 0s - loss: 0.0077\n",
            "47/47 - 0s - loss: 0.0049\n",
            "47/47 - 0s - loss: 0.0059\n",
            "47/47 - 0s - loss: 0.0063\n",
            "47/47 - 0s - loss: 0.0077\n",
            "47/47 - 0s - loss: 0.0054\n",
            "47/47 - 0s - loss: 0.0081\n",
            "47/47 - 0s - loss: 0.0067\n",
            "47/47 - 0s - loss: 0.0094\n",
            "47/47 - 0s - loss: 0.0043\n",
            "47/47 - 0s - loss: 0.0052\n",
            "47/47 - 0s - loss: 0.0073\n"
          ],
          "name": "stdout"
        }
      ]
    },
    {
      "cell_type": "code",
      "metadata": {
        "id": "YvcUD5bH2WKn"
      },
      "source": [
        "# make forecast\n",
        "trainPredict = model.predict(trainX, batch_size=batch_size)\n",
        "model.reset_states()\n",
        "testPredict = model.predict(testX, batch_size=batch_size)\n"
      ],
      "execution_count": 1974,
      "outputs": []
    },
    {
      "cell_type": "code",
      "metadata": {
        "id": "vvtapCqE2YWr"
      },
      "source": [
        "# invert predictions\n",
        "trainPredict = scaler.inverse_transform(trainPredict)\n",
        "trainY = scaler.inverse_transform([trainY])\n",
        "testPredict = scaler.inverse_transform(testPredict)\n",
        "testY = scaler.inverse_transform([testY])"
      ],
      "execution_count": 1975,
      "outputs": []
    },
    {
      "cell_type": "markdown",
      "metadata": {
        "id": "KN23FtFDuntv"
      },
      "source": [
        "EVALUATE A MODEL"
      ]
    },
    {
      "cell_type": "markdown",
      "metadata": {
        "id": "BvKShbJ1EoWv"
      },
      "source": [
        "TRAINING PERFOMANCE METRIC"
      ]
    },
    {
      "cell_type": "code",
      "metadata": {
        "id": "3Z_aJuq5DmZc",
        "colab": {
          "base_uri": "https://localhost:8080/"
        },
        "outputId": "ab64238a-aa09-484a-e0b6-bc37473bdb46"
      },
      "source": [
        "# Accuracy metrics\n",
        "def forecast_accuracy(forecast, actual):\n",
        "    mape = mean_absolute_percentage_error(actual, forecast)  # MAPE\n",
        "    mse=mean_squared_error(actual, forecast, squared=False)\n",
        "    mae = mean_absolute_error(actual, forecast)    # MAE   # MPE\n",
        "    rmse = np.sqrt(mean_squared_error(actual, forecast))\n",
        "    r2=r2_score(actual, forecast)  # RMSE\n",
        "    return({'mape':mape,  'mae': mae, \"mse\":mse,\n",
        "             'rmse':rmse,'r2_score':r2})\n",
        "\n",
        "forecast_accuracy(trainPredict[:,0],trainY[0])"
      ],
      "execution_count": 1976,
      "outputs": [
        {
          "output_type": "execute_result",
          "data": {
            "text/plain": [
              "{'mae': 0.6102635855726537,\n",
              " 'mape': 0.01105218957041461,\n",
              " 'mse': 0.764634929089913,\n",
              " 'r2_score': 0.971570249530725,\n",
              " 'rmse': 0.764634929089913}"
            ]
          },
          "metadata": {
            "tags": []
          },
          "execution_count": 1976
        }
      ]
    },
    {
      "cell_type": "markdown",
      "metadata": {
        "id": "PsDR3Sw1EUZn"
      },
      "source": [
        "TESTING PERFOMANCE METRIC"
      ]
    },
    {
      "cell_type": "code",
      "metadata": {
        "id": "tHZ5DgQvDz2Z",
        "colab": {
          "base_uri": "https://localhost:8080/"
        },
        "outputId": "486db246-ebf0-4542-b236-8c9adaf5d1d1"
      },
      "source": [
        "# Accuracy metrics\n",
        "def forecast_accuracy(forecast, actual):\n",
        "    mape = mean_absolute_percentage_error(actual, forecast)  # MAPE\n",
        "    mse=mean_squared_error(actual, forecast, squared=False)\n",
        "    mae = mean_absolute_error(actual, forecast)    # MAE   # MPE\n",
        "    rmse = np.sqrt(mean_squared_error(actual, forecast))\n",
        "    r2=r2_score(actual, forecast)  # RMSE\n",
        "    return({'mape':mape,  'mae': mae, \"mse\":mse,\n",
        "             'rmse':rmse,'r2_score':r2})\n",
        "\n",
        "forecast_accuracy(testPredict[:,0],testY[0])"
      ],
      "execution_count": 1977,
      "outputs": [
        {
          "output_type": "execute_result",
          "data": {
            "text/plain": [
              "{'mae': 1.078431980068939,\n",
              " 'mape': 0.019657355435524725,\n",
              " 'mse': 1.7359275506648515,\n",
              " 'r2_score': 0.3821193254862847,\n",
              " 'rmse': 1.7359275506648515}"
            ]
          },
          "metadata": {
            "tags": []
          },
          "execution_count": 1977
        }
      ]
    },
    {
      "cell_type": "markdown",
      "metadata": {
        "id": "LNXPIV9iE2O5"
      },
      "source": [
        "TESTING"
      ]
    },
    {
      "cell_type": "code",
      "metadata": {
        "id": "9H_TmZNBtGyg"
      },
      "source": [
        "import pandas as pd\n",
        "\n",
        "import numpy as np\n",
        "\n",
        "%matplotlib inline\n",
        "\n",
        "import matplotlib.pyplot as plt\n",
        "\n",
        "from sklearn.preprocessing import MinMaxScaler\n",
        "\n",
        "from sklearn.metrics import r2_score\n",
        "\n",
        "from keras.models import Sequential\n",
        "\n",
        "from keras.layers import Dense\n",
        "\n",
        "from keras.callbacks import EarlyStopping\n",
        "\n",
        "from keras.optimizers import Adam\n",
        "\n",
        "from keras.layers import LSTM"
      ],
      "execution_count": 1978,
      "outputs": []
    },
    {
      "cell_type": "code",
      "metadata": {
        "colab": {
          "base_uri": "https://localhost:8080/",
          "height": 450
        },
        "id": "XhTJM99ar5NE",
        "outputId": "a06e2de4-5f8b-4da9-d9e3-ad5081c9aa93"
      },
      "source": [
        "series"
      ],
      "execution_count": 1979,
      "outputs": [
        {
          "output_type": "execute_result",
          "data": {
            "text/html": [
              "<div>\n",
              "<style scoped>\n",
              "    .dataframe tbody tr th:only-of-type {\n",
              "        vertical-align: middle;\n",
              "    }\n",
              "\n",
              "    .dataframe tbody tr th {\n",
              "        vertical-align: top;\n",
              "    }\n",
              "\n",
              "    .dataframe thead th {\n",
              "        text-align: right;\n",
              "    }\n",
              "</style>\n",
              "<table border=\"1\" class=\"dataframe\">\n",
              "  <thead>\n",
              "    <tr style=\"text-align: right;\">\n",
              "      <th></th>\n",
              "      <th>tbcases</th>\n",
              "    </tr>\n",
              "    <tr>\n",
              "      <th>Date</th>\n",
              "      <th></th>\n",
              "    </tr>\n",
              "  </thead>\n",
              "  <tbody>\n",
              "    <tr>\n",
              "      <th>2015-01-01</th>\n",
              "      <td>55.441667</td>\n",
              "    </tr>\n",
              "    <tr>\n",
              "      <th>2015-02-01</th>\n",
              "      <td>55.441667</td>\n",
              "    </tr>\n",
              "    <tr>\n",
              "      <th>2015-03-01</th>\n",
              "      <td>55.441667</td>\n",
              "    </tr>\n",
              "    <tr>\n",
              "      <th>2015-04-01</th>\n",
              "      <td>55.441667</td>\n",
              "    </tr>\n",
              "    <tr>\n",
              "      <th>2015-05-01</th>\n",
              "      <td>55.441667</td>\n",
              "    </tr>\n",
              "    <tr>\n",
              "      <th>...</th>\n",
              "      <td>...</td>\n",
              "    </tr>\n",
              "    <tr>\n",
              "      <th>2020-08-01</th>\n",
              "      <td>55.441667</td>\n",
              "    </tr>\n",
              "    <tr>\n",
              "      <th>2020-09-01</th>\n",
              "      <td>55.441667</td>\n",
              "    </tr>\n",
              "    <tr>\n",
              "      <th>2020-10-01</th>\n",
              "      <td>55.441667</td>\n",
              "    </tr>\n",
              "    <tr>\n",
              "      <th>2020-11-01</th>\n",
              "      <td>55.441667</td>\n",
              "    </tr>\n",
              "    <tr>\n",
              "      <th>2020-12-01</th>\n",
              "      <td>55.441667</td>\n",
              "    </tr>\n",
              "  </tbody>\n",
              "</table>\n",
              "<p>72 rows × 1 columns</p>\n",
              "</div>"
            ],
            "text/plain": [
              "              tbcases\n",
              "Date                 \n",
              "2015-01-01  55.441667\n",
              "2015-02-01  55.441667\n",
              "2015-03-01  55.441667\n",
              "2015-04-01  55.441667\n",
              "2015-05-01  55.441667\n",
              "...               ...\n",
              "2020-08-01  55.441667\n",
              "2020-09-01  55.441667\n",
              "2020-10-01  55.441667\n",
              "2020-11-01  55.441667\n",
              "2020-12-01  55.441667\n",
              "\n",
              "[72 rows x 1 columns]"
            ]
          },
          "metadata": {
            "tags": []
          },
          "execution_count": 1979
        }
      ]
    },
    {
      "cell_type": "code",
      "metadata": {
        "colab": {
          "base_uri": "https://localhost:8080/",
          "height": 388
        },
        "id": "0x2vkSd6sBuv",
        "outputId": "40a1b90e-8814-4126-e51e-4589af8c6edf"
      },
      "source": [
        "split_date = pd.Timestamp('2019-01-01')\n",
        "\n",
        "df =  series['tbcases']\n",
        "\n",
        "train = df.loc[:split_date]\n",
        "\n",
        "test = df.loc[split_date:]\n",
        "\n",
        "plt.figure(figsize=(10, 6))\n",
        "\n",
        "ax = train.plot()\n",
        "\n",
        "test.plot(ax=ax)\n",
        "\n",
        "plt.legend(['train', 'test']);"
      ],
      "execution_count": 1980,
      "outputs": [
        {
          "output_type": "display_data",
          "data": {
            "image/png": "[encoded data removed]",
            "text/plain": [
              "<Figure size 720x432 with 1 Axes>"
            ]
          },
          "metadata": {
            "tags": [],
            "needs_background": "light"
          }
        }
      ]
    },
    {
      "cell_type": "code",
      "metadata": {
        "id": "NRgI3qB7sKLD"
      },
      "source": [
        "scaler = MinMaxScaler(feature_range=(-1, 1))\n",
        "train=train.values\n",
        "train=train.reshape(-1,1)\n",
        "train_sc = scaler.fit_transform(train)\n",
        "test=test.values\n",
        "test=test.reshape(-1,1)\n",
        "test_sc = scaler.transform(test)\n",
        "\n"
      ],
      "execution_count": 1981,
      "outputs": []
    },
    {
      "cell_type": "code",
      "metadata": {
        "id": "a869I8ZIsxpW"
      },
      "source": [
        "X_train = train_sc[:-1]\n",
        "\n",
        "y_train = train_sc[1:]\n",
        "\n",
        "\n",
        "\n",
        "X_test = test_sc[:-1]\n",
        "\n",
        "y_test = test_sc[1:]"
      ],
      "execution_count": 1982,
      "outputs": []
    },
    {
      "cell_type": "code",
      "metadata": {
        "colab": {
          "base_uri": "https://localhost:8080/"
        },
        "id": "v3dB-8cps64C",
        "outputId": "ca879358-a604-43aa-fcef-e8d136981a85"
      },
      "source": [
        "nn_model = Sequential()\n",
        "\n",
        "nn_model.add(Dense(512, input_dim=1, activation='tanh'))\n",
        "nn_model.add(Dense(512, input_dim=1, activation='tanh'))\n",
        "nn_model.add(Dense(1))\n",
        "\n",
        "nn_model.compile(loss='mean_squared_error', optimizer='adam')\n",
        "\n",
        "early_stop = EarlyStopping(monitor='loss', patience=2, verbose=1)\n",
        "\n",
        "history = nn_model.fit(X_train, y_train, epochs=100, batch_size=1, verbose=1, callbacks=[early_stop], shuffle=False)"
      ],
      "execution_count": 1983,
      "outputs": [
        {
          "output_type": "stream",
          "text": [
            "Epoch 1/100\n",
            "48/48 [==============================] - 1s 2ms/step - loss: 0.0610\n",
            "Epoch 2/100\n",
            "48/48 [==============================] - 0s 2ms/step - loss: 0.1877\n",
            "Epoch 3/100\n",
            "48/48 [==============================] - 0s 2ms/step - loss: 0.0214\n",
            "Epoch 4/100\n",
            "48/48 [==============================] - 0s 2ms/step - loss: 0.0974\n",
            "Epoch 5/100\n",
            "48/48 [==============================] - 0s 2ms/step - loss: 0.0236\n",
            "Epoch 00005: early stopping\n"
          ],
          "name": "stdout"
        }
      ]
    },
    {
      "cell_type": "code",
      "metadata": {
        "colab": {
          "base_uri": "https://localhost:8080/"
        },
        "id": "UcslqOcJthnc",
        "outputId": "ac1582ef-9e5c-4e67-fa87-c19114c04726"
      },
      "source": [
        "y_pred_test_nn = nn_model.predict(X_test)\n",
        "\n",
        "y_train_pred_nn = nn_model.predict(X_train)\n",
        "\n",
        "print(\"The R2 score on the Train set is:\\t{:0.3f}\".format(r2_score(y_train, y_train_pred_nn)))\n",
        "\n",
        "print(\"The R2 score on the Test set is:\\t{:0.3f}\".format(r2_score(y_test, y_pred_test_nn)))"
      ],
      "execution_count": 1984,
      "outputs": [
        {
          "output_type": "stream",
          "text": [
            "The R2 score on the Train set is:\t0.784\n",
            "The R2 score on the Test set is:\t0.409\n"
          ],
          "name": "stdout"
        }
      ]
    },
    {
      "cell_type": "code",
      "metadata": {
        "colab": {
          "base_uri": "https://localhost:8080/"
        },
        "id": "pSUHgY2yuOJx",
        "outputId": "ea4b4aeb-14fe-4de3-e6b9-33682789e390"
      },
      "source": [
        "X_train_lmse = np.reshape(X_train, (X_train.shape[0], X_train.shape[1], 1))\n",
        "X_test_lmse = np.reshape(X_test, (X_test.shape[0], X_test.shape[1], 1))\n",
        "\n",
        "lst = Sequential()\n",
        "lst.add(LSTM(512, input_shape=(1, X_train_lmse.shape[1]), activation='tanh', kernel_initializer='lecun_uniform', return_sequences=False))\n",
        "lst.add(Dense(1))\n",
        "lst.compile(loss='mean_squared_error', optimizer='adam')\n",
        "early_stop = EarlyStopping(monitor='loss', patience=2, verbose=1)\n",
        "history_lstm_model = lst.fit(X_train_lmse, y_train, epochs=100, batch_size=1, verbose=1, shuffle=False, callbacks=[early_stop])\n"
      ],
      "execution_count": 1985,
      "outputs": [
        {
          "output_type": "stream",
          "text": [
            "Epoch 1/100\n",
            "48/48 [==============================] - 2s 7ms/step - loss: 0.0453\n",
            "Epoch 2/100\n",
            "48/48 [==============================] - 0s 7ms/step - loss: 0.0540\n",
            "Epoch 3/100\n",
            "48/48 [==============================] - 0s 6ms/step - loss: 0.0256\n",
            "Epoch 4/100\n",
            "48/48 [==============================] - 0s 6ms/step - loss: 0.0329\n",
            "Epoch 5/100\n",
            "48/48 [==============================] - 0s 7ms/step - loss: 0.0491\n",
            "Epoch 00005: early stopping\n"
          ],
          "name": "stdout"
        }
      ]
    },
    {
      "cell_type": "code",
      "metadata": {
        "colab": {
          "base_uri": "https://localhost:8080/"
        },
        "id": "iYhcoWaVuVPo",
        "outputId": "518a38fa-1394-4bb7-cc53-ad65313c1687"
      },
      "source": [
        "y_pred_test_lstm = lst.predict(X_test_lmse)\n",
        "y_train_pred_lstm = lst.predict(X_train_lmse)\n",
        "print(\"The R2 score on the Train set is:\\t{:0.3f}\".format(r2_score(y_train, y_train_pred_lstm)))\n",
        "print(\"The R2 score on the Test set is:\\t{:0.3f}\".format(r2_score(y_test, y_pred_test_lstm)))\n"
      ],
      "execution_count": 1986,
      "outputs": [
        {
          "output_type": "stream",
          "text": [
            "The R2 score on the Train set is:\t0.773\n",
            "The R2 score on the Test set is:\t-0.292\n"
          ],
          "name": "stdout"
        }
      ]
    },
    {
      "cell_type": "code",
      "metadata": {
        "colab": {
          "base_uri": "https://localhost:8080/"
        },
        "id": "t2Xh-DsLhwhJ",
        "outputId": "6c96a030-e152-4aef-dbf7-04f2e5128209"
      },
      "source": [
        "# Accuracy metrics\n",
        "def forecast_accuracy(forecast, actual):\n",
        "    mape = mean_absolute_percentage_error(actual, forecast)  # MAPE\n",
        "    mse=mean_squared_error(actual, forecast, squared=False)\n",
        "    mae = mean_absolute_error(actual, forecast)    # MAE   # MPE\n",
        "    rmse = np.sqrt(mean_squared_error(actual, forecast))\n",
        "    r2=r2_score(actual, forecast)  # RMSE\n",
        "    return({'mape':mape,  'mae': mae, \"mse\":mse,\n",
        "             'rmse':rmse,'r2_score':r2})\n",
        "\n",
        "forecast_accuracy(y_pred_test_lstm,y_test)"
      ],
      "execution_count": 1987,
      "outputs": [
        {
          "output_type": "execute_result",
          "data": {
            "text/plain": [
              "{'mae': 0.19294136014409344,\n",
              " 'mape': 1.8570971741116542,\n",
              " 'mse': 0.25639147848208177,\n",
              " 'r2_score': -0.29225858802849536,\n",
              " 'rmse': 0.25639147848208177}"
            ]
          },
          "metadata": {
            "tags": []
          },
          "execution_count": 1987
        }
      ]
    }
  ]
}