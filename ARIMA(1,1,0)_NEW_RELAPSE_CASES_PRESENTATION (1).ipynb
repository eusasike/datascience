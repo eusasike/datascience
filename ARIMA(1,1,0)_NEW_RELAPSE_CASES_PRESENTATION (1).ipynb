{
  "nbformat": 4,
  "nbformat_minor": 0,
  "metadata": {
    "colab": {
      "name": "ARIMA(1,1,0)-NEW-RELAPSE-CASES-PRESENTATION.ipynb",
      "provenance": [],
      "collapsed_sections": []
    },
    "kernelspec": {
      "display_name": "Python 3",
      "name": "python3"
    }
  },
  "cells": [
    {
      "cell_type": "markdown",
      "metadata": {
        "id": "AOQaDhJ91ml7"
      },
      "source": [
        "LOAD DATASET FOR TB INCIDENCE TO COLAB"
      ]
    },
    {
      "cell_type": "code",
      "metadata": {
        "id": "lpHoZUlc1qJm"
      },
      "source": [
        "#upload the dataset into google colab\n",
        "from google.colab import files\n",
        "uploaded = files.upload()"
      ],
      "execution_count": null,
      "outputs": []
    },
    {
      "cell_type": "markdown",
      "metadata": {
        "id": "VajvSaGF1wWc"
      },
      "source": [
        "IMPORT NECESSARY LIBARY"
      ]
    },
    {
      "cell_type": "code",
      "metadata": {
        "id": "yi0wlaP21lSf"
      },
      "source": [
        "import pandas as pd\n",
        "import statsmodels.api as sm\n",
        "import matplotlib.pyplot as plt\n",
        "plt.rcParams.update({'figure.figsize':(10,5), 'figure.dpi':120})\n"
      ],
      "execution_count": null,
      "outputs": []
    },
    {
      "cell_type": "code",
      "metadata": {
        "id": "5dyopJOHkPra"
      },
      "source": [
        ""
      ],
      "execution_count": null,
      "outputs": []
    },
    {
      "cell_type": "code",
      "metadata": {
        "id": "aeAyyeHT15ZL"
      },
      "source": [
        "pf = pd.read_csv('tbcaseskibongoto.csv',header=0,  index_col=0)"
      ],
      "execution_count": null,
      "outputs": []
    },
    {
      "cell_type": "code",
      "metadata": {
        "id": "GZKEsMM2JO2w"
      },
      "source": [
        "pf['tbcases']"
      ],
      "execution_count": null,
      "outputs": []
    },
    {
      "cell_type": "code",
      "metadata": {
        "id": "zmEgAf65pY13"
      },
      "source": [
        "pf=pf.dropna()"
      ],
      "execution_count": null,
      "outputs": []
    },
    {
      "cell_type": "markdown",
      "metadata": {
        "id": "tMb1192z17gb"
      },
      "source": [
        "VISUALIZING TB INCIDENCE"
      ]
    },
    {
      "cell_type": "code",
      "metadata": {
        "colab": {
          "background_save": true
        },
        "id": "9mtl0d0tCnhR"
      },
      "source": [
        "pf.plot(x='Year',title=\"Kibongoto National TB Hospital TB cases since 2015-2020\",ylabel=\"TB cases\")\n",
        "plt.show()"
      ],
      "execution_count": null,
      "outputs": []
    },
    {
      "cell_type": "markdown",
      "metadata": {
        "id": "KEJb0uFA6Dzt"
      },
      "source": [
        "DATA DECOMPOSE"
      ]
    },
    {
      "cell_type": "code",
      "metadata": {
        "id": "xykFSEqA6FlE"
      },
      "source": [
        "decomposition = sm.tsa.seasonal_decompose(pf, model='additive',freq=1)\n",
        "plt.rcParams[\"figure.figsize\"] = [16,9]\n",
        "fig = decomposition.plot()"
      ],
      "execution_count": null,
      "outputs": []
    },
    {
      "cell_type": "markdown",
      "metadata": {
        "id": "AJUCScPj6Oz8"
      },
      "source": [
        "CHECK FOR STATIONARY"
      ]
    },
    {
      "cell_type": "code",
      "metadata": {
        "id": "SmPHEE2x6Q4o"
      },
      "source": [
        "from statsmodels.tsa.stattools import adfuller\n",
        "adfuller_results=adfuller(pf,autolag='AIC')\n",
        "print(f'adfuller statistics:{adfuller_results[0]}')\n",
        "print(f'p-value: {adfuller_results[1]}')\n",
        "for key,value in adfuller_results[4].items():\n",
        "  print(\"Critical value: \")\n",
        "  print(f'{key},{value}')"
      ],
      "execution_count": null,
      "outputs": []
    },
    {
      "cell_type": "markdown",
      "metadata": {
        "id": "8VCHXa0e6a-w"
      },
      "source": [
        "FIRST DIFFERENCING"
      ]
    },
    {
      "cell_type": "code",
      "metadata": {
        "id": "dSl7P4jXAA8u"
      },
      "source": [
        "# 1st Differencing\n",
        "plt.plot(pf.diff())\n",
        "plt.show()"
      ],
      "execution_count": null,
      "outputs": []
    },
    {
      "cell_type": "code",
      "metadata": {
        "id": "RvQMezWpFFQP"
      },
      "source": [
        "import statsmodels.graphics.tsaplots as sgt\n",
        "sgt.plot_acf(pf.diff().dropna())\n",
        "plt.show()\n"
      ],
      "execution_count": null,
      "outputs": []
    },
    {
      "cell_type": "code",
      "metadata": {
        "id": "8wqlnqVcHFFR"
      },
      "source": [
        "sgt.plot_pacf(pf.diff().dropna())\n",
        "plt.show()"
      ],
      "execution_count": null,
      "outputs": []
    },
    {
      "cell_type": "code",
      "metadata": {
        "id": "tNxoHXfP6tXA"
      },
      "source": [
        "adfuller_results=adfuller(pf.diff().dropna(),autolag='AIC')\n",
        "print(f'adfuller statistics:{adfuller_results[0]}')\n",
        "print(f'p-value: {adfuller_results[1]}')\n",
        "for key,value in adfuller_results[4].items():\n",
        "  print(\"Critical value: \")\n",
        "  print(f'{key},{value}')"
      ],
      "execution_count": null,
      "outputs": []
    },
    {
      "cell_type": "code",
      "metadata": {
        "id": "Z1AMPw11O3Tf"
      },
      "source": [
        "pf.diff()"
      ],
      "execution_count": null,
      "outputs": []
    },
    {
      "cell_type": "markdown",
      "metadata": {
        "id": "0-qYqA79AEoc"
      },
      "source": [
        "TEST FOR AUTO-ARIMA"
      ]
    },
    {
      "cell_type": "code",
      "metadata": {
        "id": "lVp-pYdIAOwg"
      },
      "source": [
        "!pip install --upgrade statsmodels\n"
      ],
      "execution_count": null,
      "outputs": []
    },
    {
      "cell_type": "code",
      "metadata": {
        "id": "pgCQY3PkzYVR"
      },
      "source": [
        "pip install pmdarima"
      ],
      "execution_count": null,
      "outputs": []
    },
    {
      "cell_type": "code",
      "metadata": {
        "id": "4hFuMlfNAG_e"
      },
      "source": [
        "import pmdarima as pm\n"
      ],
      "execution_count": null,
      "outputs": []
    },
    {
      "cell_type": "code",
      "metadata": {
        "id": "hYylhAoCAKRO"
      },
      "source": [
        "auto_arima_fit = pm.auto_arima(pf, start_p=1, start_q=1,\n",
        "                             max_p=3, max_q=3,  d=1, trace=True,\n",
        "                             error_action='ignore',\n",
        "                             suppress_warnings=True,\n",
        "                             stepwise=True)"
      ],
      "execution_count": null,
      "outputs": []
    },
    {
      "cell_type": "markdown",
      "metadata": {
        "id": "6QfnMS3SK5K0"
      },
      "source": [
        "SPLITTING TESTING AND TRAINING SET"
      ]
    },
    {
      "cell_type": "code",
      "metadata": {
        "id": "FGHchGUMKbqC"
      },
      "source": [
        "# split into train and test sets\n",
        "X = pf.values\n",
        "size = int(len(X) * 0.7)\n",
        "train, test = X[0:size], X[size:len(X)]\n",
        "history = [x for x in train]\n",
        "predictions = list()"
      ],
      "execution_count": null,
      "outputs": []
    },
    {
      "cell_type": "code",
      "metadata": {
        "id": "ugZ1VKXDMzya"
      },
      "source": [
        "history"
      ],
      "execution_count": null,
      "outputs": []
    },
    {
      "cell_type": "code",
      "metadata": {
        "id": "9ji1WNj7NbRA"
      },
      "source": [
        "test"
      ],
      "execution_count": null,
      "outputs": []
    },
    {
      "cell_type": "markdown",
      "metadata": {
        "id": "O22nU_jkCF_D"
      },
      "source": [
        "FIT ARIMA MODEL ARIMA(1,1,0) WITH LOWERST AIC AND BIC"
      ]
    },
    {
      "cell_type": "code",
      "metadata": {
        "id": "0P7D5qnXb_o5"
      },
      "source": [
        "from statsmodels.tsa.arima_model import ARIMA"
      ],
      "execution_count": null,
      "outputs": []
    },
    {
      "cell_type": "code",
      "metadata": {
        "id": "b5xi3tZRKd3v"
      },
      "source": [
        "# walk-forward validation\n",
        "for t in range(len(test)):\n",
        "\tmodel = ARIMA(history, order=(1, 1, 0))\n",
        "\tmodel_fit = model.fit() \n",
        "  \n",
        "\toutput = model_fit.forecast()\n",
        "\tyhat = output[0]\n",
        "\tpredictions.append(yhat)\n",
        "\tobs = test[t]\n",
        "\thistory.append(obs)\n",
        "\tprint('predicted=%f, expected=%f' % (yhat, obs))\n",
        "\n",
        "model_fit.summary()"
      ],
      "execution_count": null,
      "outputs": []
    },
    {
      "cell_type": "markdown",
      "metadata": {
        "id": "r_y0Hy44CkjV"
      },
      "source": [
        "RESIDUAL DIAGNOSIS"
      ]
    },
    {
      "cell_type": "code",
      "metadata": {
        "id": "F3zHDe4yCmQG"
      },
      "source": [
        "residuals = pd.DataFrame(model_fit.resid)\n",
        "residuals.plot(label=\"Residual\")"
      ],
      "execution_count": null,
      "outputs": []
    },
    {
      "cell_type": "code",
      "metadata": {
        "id": "wOYm8NO1DzBU"
      },
      "source": [
        "#residuals.plot(kind='kde')"
      ],
      "execution_count": null,
      "outputs": []
    },
    {
      "cell_type": "code",
      "metadata": {
        "id": "8DYH6tChEAie"
      },
      "source": [
        "#residuals.describe()"
      ],
      "execution_count": null,
      "outputs": []
    },
    {
      "cell_type": "markdown",
      "metadata": {
        "id": "XoljiPpoFSBi"
      },
      "source": [
        "PLOT RESULT VS ORIGIONAL"
      ]
    },
    {
      "cell_type": "code",
      "metadata": {
        "id": "c5PaVcEXKhaB"
      },
      "source": [
        "# plot forecasts against actual outcomes\n",
        "plt.plot(test)\n",
        "plt.plot(predictions, color='red')\n",
        "plt.plot(test,label=\"Original test TB incidence\")\n",
        "plt.plot(predictions,label=\"Predicted TB incidence\")\n",
        "plt.legend( loc='upper left')\n",
        "plt.show()"
      ],
      "execution_count": null,
      "outputs": []
    },
    {
      "cell_type": "markdown",
      "metadata": {
        "id": "8NTOKShXIvkj"
      },
      "source": [
        "EVALUATION OF THE MODEL"
      ]
    },
    {
      "cell_type": "code",
      "metadata": {
        "id": "24x4GPOQI2fi"
      },
      "source": [
        "from math import sqrt\n",
        "from sklearn.metrics import mean_squared_error"
      ],
      "execution_count": null,
      "outputs": []
    },
    {
      "cell_type": "code",
      "metadata": {
        "id": "m4v4hXHWIx0u"
      },
      "source": [
        "rmse =sqrt(mean_squared_error(test, predictions))\n",
        "print(rmse)"
      ],
      "execution_count": null,
      "outputs": []
    },
    {
      "cell_type": "markdown",
      "metadata": {
        "id": "3kxGUaQJLkzT"
      },
      "source": [
        "FOECASTED VALUE AND ACTUAL VALUE"
      ]
    },
    {
      "cell_type": "code",
      "metadata": {
        "id": "AHe9RlL2gRvk"
      },
      "source": [
        "# Train the model on the full dataset \n",
        "model = model = ARIMA(pf,order = (1, 1, 0)) \n",
        "result = model.fit() \n",
        "  \n",
        "# Forecast for the next 3 years \n",
        "forecast = result.predict(start = len(pf),  \n",
        "                          end = (len(pf)) + 5,  \n",
        "                          typ = 'levels').rename('Forecast TB cases') \n",
        "  \n",
        "# Plot the forecast values \n",
        "pf.plot(figsize = (12, 5), legend = True) \n",
        "forecast.plot(legend = True) \n",
        "#pf.plot(x='Year',title=\"TOTAL NEW AND RELAPSE TB INCIDENCE WITH UNKNOWN TREATMENT HISTORY\",ylabel=\"total New and relapse TB cases\")\n",
        "#forecast.plot(legend = True) \n",
        "#plt.show()"
      ],
      "execution_count": null,
      "outputs": []
    },
    {
      "cell_type": "markdown",
      "metadata": {
        "id": "bQxhWmWwj4cK"
      },
      "source": [
        "FORECAST VALUE"
      ]
    },
    {
      "cell_type": "code",
      "metadata": {
        "id": "QZFvTBx5D-Ee"
      },
      "source": [
        "forecast"
      ],
      "execution_count": null,
      "outputs": []
    }
  ]
}