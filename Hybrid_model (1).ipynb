{
  "nbformat": 4,
  "nbformat_minor": 0,
  "metadata": {
    "colab": {
      "name": "Hybrid-model.ipynb",
      "provenance": [],
      "collapsed_sections": []
    },
    "kernelspec": {
      "display_name": "Python 3",
      "name": "python3"
    },
    "language_info": {
      "name": "python"
    }
  },
  "cells": [
    {
      "cell_type": "code",
      "metadata": {
        "id": "8Mh11k5FnXev"
      },
      "source": [
        "pip install -U scikit-learn"
      ],
      "execution_count": null,
      "outputs": []
    },
    {
      "cell_type": "code",
      "metadata": {
        "id": "5jq2BA_FoNx-"
      },
      "source": [
        "#upload the dataset into google colab\n",
        "from google.colab import files\n",
        "uploaded = files.upload()"
      ],
      "execution_count": null,
      "outputs": []
    },
    {
      "cell_type": "code",
      "metadata": {
        "id": "wzlvslSVoqxg"
      },
      "source": [
        "import pandas as pd\n",
        "from pandas import DataFrame\n",
        "import statsmodels.api as sm\n",
        "from math import sqrt\n",
        "import matplotlib.pyplot as plt\n",
        "#plt.rcParams.update({'figure.figsize':(9,6), 'figure.dpi':100})\n",
        "plt.style.use('fivethirtyeight')\n",
        "plt.rcParams['axes.labelsize'] = 12\n",
        "plt.rcParams['xtick.labelsize'] = 10\n",
        "plt.rcParams['ytick.labelsize'] = 10\n",
        "plt.rcParams['text.color'] = 'G'\n",
        "import numpy as np\n"
      ],
      "execution_count": null,
      "outputs": []
    },
    {
      "cell_type": "code",
      "metadata": {
        "id": "IjLYtg7_nenf"
      },
      "source": [
        "dfseasonalitypred = pd.read_csv('predict_seasonal_new.csv')"
      ],
      "execution_count": null,
      "outputs": []
    },
    {
      "cell_type": "code",
      "metadata": {
        "id": "T_Xd484IpBwU"
      },
      "source": [
        "dfseasonalitypred=dfseasonalitypred.rename(columns={\"0\":\"seasonalcases\"})"
      ],
      "execution_count": null,
      "outputs": []
    },
    {
      "cell_type": "code",
      "metadata": {
        "id": "IvZDI2JwpkR5"
      },
      "source": [
        "dfseasonalitypred=dfseasonalitypred.filter(items=['seasonalcases'])"
      ],
      "execution_count": null,
      "outputs": []
    },
    {
      "cell_type": "code",
      "metadata": {
        "id": "a3lE87jFropp"
      },
      "source": [
        "dfseasonalitypred.isnull().sum()"
      ],
      "execution_count": null,
      "outputs": []
    },
    {
      "cell_type": "code",
      "metadata": {
        "id": "h0mEwWpKmfdS"
      },
      "source": [
        ""
      ],
      "execution_count": null,
      "outputs": []
    },
    {
      "cell_type": "code",
      "metadata": {
        "id": "5Kx3Gp1lnesN"
      },
      "source": [
        "residual_test = pd.read_csv('test_residual_new.csv')"
      ],
      "execution_count": null,
      "outputs": []
    },
    {
      "cell_type": "code",
      "metadata": {
        "id": "v7mn970FqVFT"
      },
      "source": [
        "residual_test=residual_test.rename(columns={\"0\":\"testresidualcases\"})"
      ],
      "execution_count": null,
      "outputs": []
    },
    {
      "cell_type": "code",
      "metadata": {
        "id": "otfAY-Mdqb4y"
      },
      "source": [
        "residual_test=residual_test.filter(items=['testresidualcases'])"
      ],
      "execution_count": null,
      "outputs": []
    },
    {
      "cell_type": "code",
      "metadata": {
        "id": "RYPcr4JTr2D_"
      },
      "source": [
        "residual_test.isnull().sum()"
      ],
      "execution_count": null,
      "outputs": []
    },
    {
      "cell_type": "code",
      "metadata": {
        "id": "GDVMFjOUnew-"
      },
      "source": [
        "test_seasonality = pd.read_csv('test_seasonal_new.csv')"
      ],
      "execution_count": null,
      "outputs": []
    },
    {
      "cell_type": "code",
      "metadata": {
        "id": "dJcRfu0Gqoe1"
      },
      "source": [
        "test_seasonality=test_seasonality.rename(columns={\"0\":\"testseasonalitycases\"})"
      ],
      "execution_count": null,
      "outputs": []
    },
    {
      "cell_type": "code",
      "metadata": {
        "id": "xcKoilVcqsin"
      },
      "source": [
        "test_seasonality=test_seasonality.filter(items=['testseasonalitycases'])"
      ],
      "execution_count": null,
      "outputs": []
    },
    {
      "cell_type": "code",
      "metadata": {
        "id": "Zep6p-17sDeH"
      },
      "source": [
        "test_seasonality.isnull().sum()"
      ],
      "execution_count": null,
      "outputs": []
    },
    {
      "cell_type": "code",
      "metadata": {
        "id": "KFaOvMX-ne2J"
      },
      "source": [
        "y_pred_residual = pd.read_csv('predict_residual_new.csv')"
      ],
      "execution_count": null,
      "outputs": []
    },
    {
      "cell_type": "code",
      "metadata": {
        "id": "jQuRMrl8qyzW"
      },
      "source": [
        "y_pred_residual=y_pred_residual.rename(columns={\"0\":\"predresidualcases\"})"
      ],
      "execution_count": null,
      "outputs": []
    },
    {
      "cell_type": "code",
      "metadata": {
        "id": "JxlQuTAHq4PC"
      },
      "source": [
        "y_pred_residual=y_pred_residual.filter(items=['predresidualcases'])"
      ],
      "execution_count": null,
      "outputs": []
    },
    {
      "cell_type": "code",
      "metadata": {
        "id": "Ohla0yBEsOCc"
      },
      "source": [
        "y_pred_residual.isnull().sum()"
      ],
      "execution_count": null,
      "outputs": []
    },
    {
      "cell_type": "code",
      "metadata": {
        "id": "A_bJiwRhne7q"
      },
      "source": [
        "trend_test = pd.read_csv('test_trend_new (1).csv')"
      ],
      "execution_count": null,
      "outputs": []
    },
    {
      "cell_type": "code",
      "metadata": {
        "id": "60GVFKQ4sgkD"
      },
      "source": [
        "trend_test=trend_test.rename(columns={\"0\":\"trend_testcases\"})"
      ],
      "execution_count": null,
      "outputs": []
    },
    {
      "cell_type": "code",
      "metadata": {
        "id": "Z3C1ojxtsgnv"
      },
      "source": [
        "trend_test=trend_test.filter(items=['trend_testcases'])"
      ],
      "execution_count": null,
      "outputs": []
    },
    {
      "cell_type": "code",
      "metadata": {
        "id": "0RNPW4wHmsvQ"
      },
      "source": [
        "trend_test.isnull().sum()"
      ],
      "execution_count": null,
      "outputs": []
    },
    {
      "cell_type": "code",
      "metadata": {
        "id": "oEiTk1J4rJsZ"
      },
      "source": [
        "y_pred_trend = pd.read_csv('predict_trend_new (1).csv')"
      ],
      "execution_count": null,
      "outputs": []
    },
    {
      "cell_type": "code",
      "metadata": {
        "id": "85rMnzBYrK7B"
      },
      "source": [
        "y_pred_trend=y_pred_trend.rename(columns={\"0\":\"y_pred_trendcases\"})"
      ],
      "execution_count": null,
      "outputs": []
    },
    {
      "cell_type": "code",
      "metadata": {
        "id": "2DFoOSnZsxrs"
      },
      "source": [
        "y_pred_trend=y_pred_trend.filter(items=['y_pred_trendcases'])"
      ],
      "execution_count": null,
      "outputs": []
    },
    {
      "cell_type": "code",
      "metadata": {
        "id": "BRjEQhW8mygT"
      },
      "source": [
        "y_pred_trend.isnull().sum()"
      ],
      "execution_count": null,
      "outputs": []
    },
    {
      "cell_type": "markdown",
      "metadata": {
        "id": "6hxM8ppbrLNf"
      },
      "source": [
        "SUMMATION"
      ]
    },
    {
      "cell_type": "code",
      "metadata": {
        "id": "yMzOd_hRrNaq"
      },
      "source": [
        "rspred=y_pred_trend['y_pred_trendcases']+y_pred_residual['predresidualcases']+dfseasonalitypred['seasonalcases']"
      ],
      "execution_count": null,
      "outputs": []
    },
    {
      "cell_type": "code",
      "metadata": {
        "id": "AMmWNHYim1_8"
      },
      "source": [
        "rspred.isnull().sum()"
      ],
      "execution_count": null,
      "outputs": []
    },
    {
      "cell_type": "code",
      "metadata": {
        "id": "jidwfLnrmLSl"
      },
      "source": [
        "rstest=trend_test['trend_testcases']+test_seasonality['testseasonalitycases']+residual_test['testresidualcases']"
      ],
      "execution_count": null,
      "outputs": []
    },
    {
      "cell_type": "code",
      "metadata": {
        "id": "1LkGcMWRouIG"
      },
      "source": [
        "rstest.isnull().sum()"
      ],
      "execution_count": null,
      "outputs": []
    },
    {
      "cell_type": "code",
      "metadata": {
        "id": "bEWqOjKOo7zD"
      },
      "source": [
        "from sklearn.metrics import mean_absolute_percentage_error\n",
        "from sklearn.metrics import mean_absolute_error\n",
        "from sklearn.metrics import mean_squared_error\n",
        "from sklearn.metrics import r2_score"
      ],
      "execution_count": null,
      "outputs": []
    },
    {
      "cell_type": "code",
      "metadata": {
        "id": "aqZ3U7dQowlA"
      },
      "source": [
        "# Accuracy metrics\n",
        "def forecast_accuracy(forecast, actual):\n",
        "    mape = mean_absolute_percentage_error(actual, forecast)  # MAPE\n",
        "    mse=mean_squared_error(actual, forecast, squared=False)\n",
        "    mae = mean_absolute_error(actual, forecast)    # MAE   # MPE\n",
        "    rmse = np.sqrt(mean_squared_error(actual, forecast))\n",
        "    r2=r2_score(actual, forecast)  # RMSE\n",
        "    return({'mape':mape,  'mae': mae, \"mse\":mse,\n",
        "             'rmse':rmse,'r2_score':r2})\n",
        "\n",
        "forecast_accuracy(rspred,rstest)"
      ],
      "execution_count": null,
      "outputs": []
    },
    {
      "cell_type": "code",
      "metadata": {
        "id": "7DA_tmpj97AV"
      },
      "source": [
        "from pylab import rcParams\n",
        "rcParams['figure.figsize'] = 18, 8"
      ],
      "execution_count": null,
      "outputs": []
    },
    {
      "cell_type": "code",
      "metadata": {
        "id": "T9Uhtd8n97at"
      },
      "source": [
        "plt.plot(rstest,label=\"test value\")\n",
        "plt.plot(rspred, color='red',label=\"Forecast value\")\n",
        "plt.title(\"Forecast values versus test  value\")\n",
        "plt.plot(figsize = (2, 1))\n",
        "plt.legend()\n",
        "plt.show()"
      ],
      "execution_count": null,
      "outputs": []
    }
  ]
}